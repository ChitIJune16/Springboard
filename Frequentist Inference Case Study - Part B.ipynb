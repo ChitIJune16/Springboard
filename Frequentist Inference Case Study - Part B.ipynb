{
 "cells": [
  {
   "cell_type": "markdown",
   "metadata": {},
   "source": [
    "# Frequentist Inference Case Study - Part B"
   ]
  },
  {
   "cell_type": "markdown",
   "metadata": {},
   "source": [
    "## Learning objectives"
   ]
  },
  {
   "cell_type": "markdown",
   "metadata": {},
   "source": [
    "Welcome to Part B of the Frequentist inference case study! The purpose of this case study is to help you apply the concepts associated with Frequentist inference in Python. In particular, you'll practice writing Python code to apply the following statistical concepts: \n",
    "* the _z_-statistic\n",
    "* the _t_-statistic\n",
    "* the difference and relationship between the two\n",
    "* the Central Limit Theorem, including its assumptions and consequences\n",
    "* how to estimate the population mean and standard deviation from a sample\n",
    "* the concept of a sampling distribution of a test statistic, particularly for the mean\n",
    "* how to combine these concepts to calculate a confidence interval"
   ]
  },
  {
   "cell_type": "markdown",
   "metadata": {},
   "source": [
    "In the previous notebook, we used only data from a known normal distribution. **You'll now tackle real data, rather than simulated data, and answer some relevant real-world business problems using the data.**"
   ]
  },
  {
   "cell_type": "markdown",
   "metadata": {},
   "source": [
    "## Hospital medical charges"
   ]
  },
  {
   "cell_type": "markdown",
   "metadata": {},
   "source": [
    "Imagine that a hospital has hired you as their data scientist. An administrator is working on the hospital's business operations plan and needs you to help them answer some business questions. \n",
    "\n",
    "In this assignment notebook, you're going to use frequentist statistical inference on a data sample to answer the questions:\n",
    "* has the hospital's revenue stream fallen below a key threshold?\n",
    "* are patients with insurance really charged different amounts than those without?\n",
    "\n",
    "Answering that last question with a frequentist approach makes some assumptions, and requires some knowledge, about the two groups."
   ]
  },
  {
   "cell_type": "markdown",
   "metadata": {},
   "source": [
    "We are going to use some data on medical charges obtained from [Kaggle](https://www.kaggle.com/easonlai/sample-insurance-claim-prediction-dataset). \n",
    "\n",
    "For the purposes of this exercise, assume the observations are the result of random sampling from our single hospital. Recall that in the previous assignment, we introduced the Central Limit Theorem (CLT), and its consequence that the distributions of sample statistics approach a normal distribution as $n$ increases. The amazing thing about this is that it applies to the sampling distributions of statistics that have been calculated from even highly non-normal distributions of data! Recall, also, that hypothesis testing is very much based on making inferences about such sample statistics. You're going to rely heavily on the CLT to apply frequentist (parametric) tests to answer the questions in this notebook."
   ]
  },
  {
   "cell_type": "code",
   "execution_count": 2,
   "metadata": {},
   "outputs": [],
   "source": [
    "import pandas as pd\n",
    "import numpy as np\n",
    "import matplotlib.pyplot as plt\n",
    "from scipy.stats import t\n",
    "from numpy.random import seed\n",
    "medical = pd.read_csv('insurance2.csv')"
   ]
  },
  {
   "cell_type": "code",
   "execution_count": 3,
   "metadata": {},
   "outputs": [
    {
     "data": {
      "text/plain": [
       "(1338, 8)"
      ]
     },
     "execution_count": 3,
     "metadata": {},
     "output_type": "execute_result"
    }
   ],
   "source": [
    "medical.shape"
   ]
  },
  {
   "cell_type": "code",
   "execution_count": 4,
   "metadata": {},
   "outputs": [
    {
     "data": {
      "text/html": [
       "<div>\n",
       "<style scoped>\n",
       "    .dataframe tbody tr th:only-of-type {\n",
       "        vertical-align: middle;\n",
       "    }\n",
       "\n",
       "    .dataframe tbody tr th {\n",
       "        vertical-align: top;\n",
       "    }\n",
       "\n",
       "    .dataframe thead th {\n",
       "        text-align: right;\n",
       "    }\n",
       "</style>\n",
       "<table border=\"1\" class=\"dataframe\">\n",
       "  <thead>\n",
       "    <tr style=\"text-align: right;\">\n",
       "      <th></th>\n",
       "      <th>age</th>\n",
       "      <th>sex</th>\n",
       "      <th>bmi</th>\n",
       "      <th>children</th>\n",
       "      <th>smoker</th>\n",
       "      <th>region</th>\n",
       "      <th>charges</th>\n",
       "      <th>insuranceclaim</th>\n",
       "    </tr>\n",
       "  </thead>\n",
       "  <tbody>\n",
       "    <tr>\n",
       "      <th>0</th>\n",
       "      <td>19</td>\n",
       "      <td>0</td>\n",
       "      <td>27.900</td>\n",
       "      <td>0</td>\n",
       "      <td>1</td>\n",
       "      <td>3</td>\n",
       "      <td>16884.92400</td>\n",
       "      <td>1</td>\n",
       "    </tr>\n",
       "    <tr>\n",
       "      <th>1</th>\n",
       "      <td>18</td>\n",
       "      <td>1</td>\n",
       "      <td>33.770</td>\n",
       "      <td>1</td>\n",
       "      <td>0</td>\n",
       "      <td>2</td>\n",
       "      <td>1725.55230</td>\n",
       "      <td>1</td>\n",
       "    </tr>\n",
       "    <tr>\n",
       "      <th>2</th>\n",
       "      <td>28</td>\n",
       "      <td>1</td>\n",
       "      <td>33.000</td>\n",
       "      <td>3</td>\n",
       "      <td>0</td>\n",
       "      <td>2</td>\n",
       "      <td>4449.46200</td>\n",
       "      <td>0</td>\n",
       "    </tr>\n",
       "    <tr>\n",
       "      <th>3</th>\n",
       "      <td>33</td>\n",
       "      <td>1</td>\n",
       "      <td>22.705</td>\n",
       "      <td>0</td>\n",
       "      <td>0</td>\n",
       "      <td>1</td>\n",
       "      <td>21984.47061</td>\n",
       "      <td>0</td>\n",
       "    </tr>\n",
       "    <tr>\n",
       "      <th>4</th>\n",
       "      <td>32</td>\n",
       "      <td>1</td>\n",
       "      <td>28.880</td>\n",
       "      <td>0</td>\n",
       "      <td>0</td>\n",
       "      <td>1</td>\n",
       "      <td>3866.85520</td>\n",
       "      <td>1</td>\n",
       "    </tr>\n",
       "  </tbody>\n",
       "</table>\n",
       "</div>"
      ],
      "text/plain": [
       "   age  sex     bmi  children  smoker  region      charges  insuranceclaim\n",
       "0   19    0  27.900         0       1       3  16884.92400               1\n",
       "1   18    1  33.770         1       0       2   1725.55230               1\n",
       "2   28    1  33.000         3       0       2   4449.46200               0\n",
       "3   33    1  22.705         0       0       1  21984.47061               0\n",
       "4   32    1  28.880         0       0       1   3866.85520               1"
      ]
     },
     "execution_count": 4,
     "metadata": {},
     "output_type": "execute_result"
    }
   ],
   "source": [
    "medical.head()"
   ]
  },
  {
   "cell_type": "markdown",
   "metadata": {},
   "source": [
    "__Q1:__ Plot the histogram of charges and calculate the mean and standard deviation. Comment on the appropriateness of these statistics for the data."
   ]
  },
  {
   "cell_type": "markdown",
   "metadata": {},
   "source": [
    "__A:__"
   ]
  },
  {
   "cell_type": "code",
   "execution_count": 5,
   "metadata": {},
   "outputs": [
    {
     "data": {
      "image/png": "[encoded data removed]",
      "text/plain": [
       "<Figure size 800x600 with 1 Axes>"
      ]
     },
     "metadata": {},
     "output_type": "display_data"
    }
   ],
   "source": [
    "# Plot histogram of charges\n",
    "plt.figure(figsize=(8,6))\n",
    "plt.hist(medical['charges'], bins=30, edgecolor='black', alpha=0.7)\n",
    "plt.title(\"Distribution of Medical Charges\", fontsize=14)\n",
    "plt.xlabel(\"Charges\", fontsize=12)\n",
    "plt.ylabel(\"Frequency\", fontsize=12)\n",
    "plt.grid(axis='y', linestyle='--', alpha=0.7)\n",
    "plt.show()"
   ]
  },
  {
   "cell_type": "code",
   "execution_count": 7,
   "metadata": {},
   "outputs": [
    {
     "name": "stdout",
     "output_type": "stream",
     "text": [
      "Mean: 13,270.42\n",
      "Standard Deviation: 12,110.01\n"
     ]
    }
   ],
   "source": [
    "# Calculate mean and standard deviation\n",
    "mean_charges = medical['charges'].mean()\n",
    "std_charges = medical['charges'].std()\n",
    "\n",
    "print(f\"Mean: {mean_charges:,.2f}\")\n",
    "print(f\"Standard Deviation: {std_charges:,.2f}\")"
   ]
  },
  {
   "cell_type": "markdown",
   "metadata": {},
   "source": [
    "The histogram is highly right-skewed. Most individuals incur relatively modest charges, but a small number have extremely high charges.\n",
    "The mean, therefore, can be misleading because it is disproportionately pulled upward by outliers.\n",
    "The standard deviation is also problematic: it assumes data are spread symmetrically around the mean, which is not the case here. Large outliers inflate the variability measure.\n",
    "\n",
    "Better statistics for this data would include the median and the interquartile range (IQR - to measure spread)."
   ]
  },
  {
   "cell_type": "code",
   "execution_count": 8,
   "metadata": {},
   "outputs": [
    {
     "name": "stdout",
     "output_type": "stream",
     "text": [
      "Median: 9,382.03\n",
      "Q1 (25th percentile): 4,740.29\n",
      "Q3 (75th percentile): 16,639.91\n",
      "IQR: 11,899.63\n"
     ]
    }
   ],
   "source": [
    "# Calculate median \n",
    "median_charges = medical['charges'].median()\n",
    "\n",
    "# Calculate IQR f\n",
    "Q1 = medical['charges'].quantile(0.25)\n",
    "Q3 = medical['charges'].quantile(0.75)\n",
    "IQR = Q3 - Q1\n",
    "\n",
    "print(f\"Median: {median_charges:,.2f}\")\n",
    "print(f\"Q1 (25th percentile): {Q1:,.2f}\")\n",
    "print(f\"Q3 (75th percentile): {Q3:,.2f}\")\n",
    "print(f\"IQR: {IQR:,.2f}\")"
   ]
  },
  {
   "cell_type": "markdown",
   "metadata": {},
   "source": [
    "__Q2:__ The administrator is concerned that the actual average charge has fallen below 12,000, threatening the hospital's operational model. On the assumption that these data represent a random sample of charges, how would you justify that these data allow you to answer that question? And what would be the most appropriate frequentist test, of the ones discussed so far, to apply?"
   ]
  },
  {
   "cell_type": "markdown",
   "metadata": {},
   "source": [
    "__A:__\n",
    "Assuming the charges values are a random sample of individual patient charges, the data is:\n",
    "1 - Indepent: each sampled charge is (approximately) independent of the others.\n",
    "2- Has Finite variance: charges have finite variance even if they’re skewed.\n",
    "3 - Has a Large sample size: n=1338, so by the Central Limit Theorem the sampling distribution of the mean is approximately normal even though the raw data are right-skewed.\n",
    "\n",
    "Together, these justify inference on the population mean using a t-based method."
   ]
  },
  {
   "cell_type": "markdown",
   "metadata": {},
   "source": [
    "__Q3:__ Given the nature of the administrator's concern, what is the appropriate confidence interval in this case? A ***one-sided*** or ***two-sided*** interval? (Refresh your understanding of this concept on p. 399 of the *AoS*). Calculate the critical value and the relevant 95% confidence interval for the mean, and comment on whether the administrator should be concerned."
   ]
  },
  {
   "cell_type": "markdown",
   "metadata": {},
   "source": [
    "__A:__"
   ]
  },
  {
   "cell_type": "code",
   "execution_count": 10,
   "metadata": {},
   "outputs": [
    {
     "name": "stdout",
     "output_type": "stream",
     "text": [
      "n = 1338, x̄ = 13,270.42, s = 12,110.01, t = 3.837, p(one-sided) = 0.999935\n"
     ]
    }
   ],
   "source": [
    "# One-sided\n",
    "from scipy import stats\n",
    "\n",
    "mu0 = 12000\n",
    "xbar = medical['charges'].mean()\n",
    "s = medical['charges'].std(ddof=1)\n",
    "n = medical['charges'].shape[0]\n",
    "df = n - 1\n",
    "\n",
    "# t statistic\n",
    "t_stat = (xbar - mu0) / (s / np.sqrt(n))\n",
    "\n",
    "# one-sided p-value for H1: mu < mu0\n",
    "p_value = stats.t.cdf(t_stat, df=df)\n",
    "\n",
    "print(f\"n = {n}, x̄ = {xbar:,.2f}, s = {s:,.2f}, t = {t_stat:.3f}, p(one-sided) = {p_value:.6f}\")"
   ]
  },
  {
   "cell_type": "code",
   "execution_count": 14,
   "metadata": {},
   "outputs": [
    {
     "name": "stdout",
     "output_type": "stream",
     "text": [
      "T critical value: 1.96\n",
      "Sample mean: 13,270.42\n",
      "Two-sided p-value = 0.000130\n",
      "95% CI: (12,620.95, 13,919.89)\n"
     ]
    }
   ],
   "source": [
    "# Two-sided\n",
    "\n",
    "# Sample statistics\n",
    "xbar2 = medical['charges'].mean()\n",
    "s2 = medical['charges'].std(ddof=1)\n",
    "n2 = len(medical)\n",
    "df2 = n - 1\n",
    "\n",
    "# Confidence level\n",
    "alpha = 0.05\n",
    "\n",
    "# Critical t-value for two-sided 95% CI\n",
    "t_crit = stats.t.ppf(1 - alpha/2, df)\n",
    "\n",
    "# two-sided p-value\n",
    "p_value2 = 2 * (1 - stats.t.cdf(abs(t_stat), df=df))\n",
    "\n",
    "# Margin of error\n",
    "moe = t_crit * (s / np.sqrt(n))\n",
    "\n",
    "# Confidence interval\n",
    "ci_lower = xbar - moe\n",
    "ci_upper = xbar + moe\n",
    "\n",
    "print(f\"T critical value: {t_crit:,.2f}\")\n",
    "print(f\"Sample mean: {xbar2:,.2f}\")\n",
    "print(f\"Two-sided p-value = {p_value2:.6f}\")\n",
    "print(f\"95% CI: ({ci_lower:,.2f}, {ci_upper:,.2f})\")\n"
   ]
  },
  {
   "cell_type": "markdown",
   "metadata": {},
   "source": [
    "Conclusion for 1-sided test - Because the mean is above 12,000, the t statistic is positive and the one-sided p-value for H1:μ<12000is very large. We fail to reject H0 and find no evidence that the true average charge has fallen below $12,000.\n",
    "\n",
    "The result is consistent for a 2-sided test.  Because the entire confidence interval is well above 12,000, we can conclude (at the 5% significance level) that the true mean charge is very unlikely to be below 12,000."
   ]
  },
  {
   "cell_type": "markdown",
   "metadata": {},
   "source": [
    "The administrator then wants to know whether people with insurance really are charged a different amount to those without.\n",
    "\n",
    "__Q4:__ State the null and alternative hypothesis here. Use the _t_-test for the difference between means, where the pooled standard deviation of the two groups is given by:\n",
    "\\begin{equation}\n",
    "s_p = \\sqrt{\\frac{(n_0 - 1)s^2_0 + (n_1 - 1)s^2_1}{n_0 + n_1 - 2}}\n",
    "\\end{equation}\n",
    "\n",
    "and the *t*-test statistic is then given by:\n",
    "\n",
    "\\begin{equation}\n",
    "t = \\frac{\\bar{x}_0 - \\bar{x}_1}{s_p \\sqrt{1/n_0 + 1/n_1}}.\n",
    "\\end{equation}\n",
    "\n",
    "(If you need some reminding of the general definition of ***t-statistic***, check out the definition on p. 404 of *AoS*). \n",
    "\n",
    "What assumption about the variances of the two groups are we making here?"
   ]
  },
  {
   "cell_type": "markdown",
   "metadata": {},
   "source": [
    "__A:__\n",
    "Define the hypotheses\n",
    "We want to test whether people with insurance are charged differently than those without insurance.\n",
    "\n",
    "Let group 0 = without insurance, group 1 = with insurance.\n",
    "\n",
    "Null hypothesis H0: μ0 = μ1  (the mean charges are the same for both groups)\n",
    "Alternative hypothesis H1: μ0 != μ1 (the mean charges differ between insured and uninsured patients)\n",
    "This is a two sided test.\n",
    "\n",
    "ssumption\n",
    "By using the pooled standard deviation, we are making the assumption of equal population variances (homoscedasticity)."
   ]
  },
  {
   "cell_type": "markdown",
   "metadata": {},
   "source": [
    "__Q5:__ Perform this hypothesis test both manually, using the above formulae, and then using the appropriate function from [scipy.stats](https://docs.scipy.org/doc/scipy/reference/stats.html#statistical-tests) (hint, you're looking for a function to perform a _t_-test on two independent samples). For the manual approach, calculate the value of the test statistic and then its probability (the p-value). Verify you get the same results from both."
   ]
  },
  {
   "cell_type": "markdown",
   "metadata": {},
   "source": [
    "__A:__ "
   ]
  },
  {
   "cell_type": "code",
   "execution_count": 16,
   "metadata": {
    "jupyter": {
     "source_hidden": true
    }
   },
   "outputs": [
    {
     "name": "stdout",
     "output_type": "stream",
     "text": [
      "mean group 0 (uninsured) = 8821.42\n",
      "mean group 1 (insured)  = 16423.93\n",
      "Manual calculation:\n",
      "t-statistic = -11.893\n",
      "p-value = 0.000000\n",
      "\n",
      "SciPy ttest_ind (equal_var=True):\n",
      "t-statistic = -11.893\n",
      "p-value = 0.000000\n"
     ]
    }
   ],
   "source": [
    "# Split into insured (1) and uninsured (0) groups\n",
    "group0 = medical.loc[medical['insuranceclaim'] == 0, 'charges']  # uninsured\n",
    "group1 = medical.loc[medical['insuranceclaim'] == 1, 'charges']  # insured\n",
    "\n",
    "# --- MANUAL CALCULATION (Pooled variance t-test) ---\n",
    "\n",
    "n0, n1 = len(group0), len(group1)\n",
    "mean0, mean1 = group0.mean(), group1.mean()\n",
    "s0, s1 = group0.std(ddof=1), group1.std(ddof=1)\n",
    "\n",
    "print(f\"mean group 0 (uninsured) = {mean0:.2f}\")\n",
    "print(f\"mean group 1 (insured)  = {mean1:.2f}\")\n",
    "\n",
    "# Pooled standard deviation\n",
    "sp = np.sqrt(((n0 - 1)*s0**2 + (n1 - 1)*s1**2) / (n0 + n1 - 2))\n",
    "\n",
    "# t-statistic\n",
    "t_stat_manual = (mean0 - mean1) / (sp * np.sqrt(1/n0 + 1/n1))\n",
    "\n",
    "# Degrees of freedom\n",
    "df = n0 + n1 - 2\n",
    "\n",
    "# Two-sided p-value\n",
    "p_value_manual = 2 * (1 - stats.t.cdf(abs(t_stat_manual), df))\n",
    "\n",
    "print(\"Manual calculation:\")\n",
    "print(f\"t-statistic = {t_stat_manual:.3f}\")\n",
    "print(f\"p-value = {p_value_manual:.6f}\")\n",
    "\n",
    "# --- SCIPY BUILT-IN FUNCTION (independent samples t-test) ---\n",
    "t_stat_scipy, p_value_scipy = stats.ttest_ind(group0, group1, equal_var=True)\n",
    "\n",
    "print(\"\\nSciPy ttest_ind (equal_var=True):\")\n",
    "print(f\"t-statistic = {t_stat_scipy:.3f}\")\n",
    "print(f\"p-value = {p_value_scipy:.6f}\")"
   ]
  },
  {
   "cell_type": "markdown",
   "metadata": {},
   "source": [
    "The negative t-stat reflects that uninsured patients have a lower mean charge than insured patients.\n",
    "\n",
    "The p-value is effectively zero, so we reject the null hypothesis H0: μ0 = μ1  (the mean charges are the same for both groups)\n",
    "\n",
    "Conclusion: There is strong statistical evidence that patients with insurance are charged a different amount (specifically, more) than those without insurance."
   ]
  },
  {
   "cell_type": "markdown",
   "metadata": {},
   "source": [
    "Congratulations! Hopefully you got the exact same numerical results. This shows that you correctly calculated the numbers by hand. Secondly, you used the correct function and saw that it's much easier to use. All you need to do is pass your data to it."
   ]
  },
  {
   "cell_type": "markdown",
   "metadata": {},
   "source": [
    "__Q6:__ Conceptual question: look through the documentation for statistical test functions in scipy.stats. You'll see the above _t_-test for a sample, but can you see an equivalent one for performing a *z*-test from a sample? Comment on your answer."
   ]
  },
  {
   "cell_type": "markdown",
   "metadata": {},
   "source": [
    "__A:__\n",
    "There isn’t a dedicated scipy.stats function for a one-sample or two-sample z-test, because in practice the population variance is rarely known. The t-test is preferred and generalizes to this situation, reducing to a z-test as the sample size grows large. If a true z-test is required, it can be implemented manually or via statsmodels."
   ]
  },
  {
   "cell_type": "markdown",
   "metadata": {},
   "source": [
    "## Learning outcomes"
   ]
  },
  {
   "cell_type": "markdown",
   "metadata": {},
   "source": [
    "Having completed this project notebook, you now have good hands-on experience:\n",
    "* using the central limit theorem to help you apply frequentist techniques to answer questions that pertain to very non-normally distributed data from the real world\n",
    "* performing inference using such data to answer business questions\n",
    "* forming a hypothesis and framing the null and alternative hypotheses\n",
    "* testing this using a _t_-test"
   ]
  }
 ],
 "metadata": {
  "kernelspec": {
   "display_name": "Python [conda env:base] *",
   "language": "python",
   "name": "conda-base-py"
  },
  "language_info": {
   "codemirror_mode": {
    "name": "ipython",
    "version": 3
   },
   "file_extension": ".py",
   "mimetype": "text/x-python",
   "name": "python",
   "nbconvert_exporter": "python",
   "pygments_lexer": "ipython3",
   "version": "3.12.7"
  }
 },
 "nbformat": 4,
 "nbformat_minor": 4
}
