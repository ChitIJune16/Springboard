{
 "cells": [
  {
   "cell_type": "markdown",
   "metadata": {},
   "source": [
    "# API Data Wrangling with Open-Meteo\n",
    "\n",
    "In this exercise, we will:\n",
    "\n",
    "- Fetch historical weather data using the **Open-Meteo API**.\n",
    "- Parse and clean the data using **pandas**.\n",
    "- Perform exploratory data analysis.\n",
    "- Visualize weather trends."
   ]
  },
  {
   "cell_type": "code",
   "execution_count": 1,
   "metadata": {},
   "outputs": [],
   "source": [
    "# Install required packages if not already installed\n",
    "# !pip install requests pandas matplotlib --quiet"
   ]
  },
  {
   "cell_type": "code",
   "execution_count": 2,
   "metadata": {},
   "outputs": [],
   "source": [
    "# Import Libraries\n",
    "import requests\n",
    "import pandas as pd\n",
    "import matplotlib.pyplot as plt\n",
    "\n",
    "# Optional: Configure matplotlib for inline display in Jupyter\n",
    "%matplotlib inline"
   ]
  },
  {
   "cell_type": "markdown",
   "metadata": {},
   "source": [
    "## Understand the Open-Meteo API\n",
    "\n",
    "- **API Endpoint**: `https://archive-api.open-meteo.com/v1/archive`\n",
    "- **Parameters**:\n",
    "  - `latitude`: Latitude of the location.\n",
    "  - `longitude`: Longitude of the location.\n",
    "  - `start_date`: Start date of the data (YYYY-MM-DD).\n",
    "  - `end_date`: End date of the data (YYYY-MM-DD).\n",
    "  - `hourly`: Comma-separated list of variables (e.g., temperature, precipitation).\n",
    "  - `timezone`: Timezone of the data.\n",
    "\n",
    "**Documentation**: [Open-Meteo API Docs](https://open-meteo.com/en/docs)"
   ]
  },
  {
   "cell_type": "markdown",
   "metadata": {},
   "source": [
    "## Exercises for Students\n",
    "\n",
    "Now it's your turn! Below are some exercises to reinforce what you've learned. Try to complete them without looking at the solutions.\n",
    "\n",
    "### Exercise: Compare Rainfall Between London and Seattle\n",
    "\n",
    "- **Objective**: Compare the total weekly rainfall between London and Seattle over a full year.\n",
    "- **Tasks**:\n",
    "  1. **Fetch Data**: Retrieve hourly precipitation data for London and Seattle for the year 2022.\n",
    "     - **London Coordinates**: Latitude `51.5074`, Longitude `-0.1278`\n",
    "     - **Seattle Coordinates**: Latitude `47.6062`, Longitude `-122.3321`\n",
    "  2. **Data Cleaning**: Convert the time columns to datetime objects and set them as the index. Handle any missing values.\n",
    "  3. **Resample Data**: Resample the hourly data to weekly totals.\n",
    "  4. **Visualization**: Plot the weekly total precipitation for both cities on the same graph.\n",
    "  5. **Analysis**: Determine which city had more rainfall overall and identify any interesting patterns.\n",
    "\n",
    "**Note**: Remember to handle any API limitations, such as data availability or rate limits, and to be mindful of the size of the data you're requesting.\n",
    "\n",
    "### Tips:\n",
    "\n",
    "- **API Parameters**: Make sure to adjust the parameters like `latitude`, `longitude`, `start_date`, `end_date`, `hourly`, and `timezone` as needed.\n",
    "- **Error Handling**: Always check if your API requests are successful before proceeding.\n",
    "- **Data Storage**: Consider saving your DataFrames to CSV files for future analysis.\n",
    "- **Visualization**: Customize your plots with titles, labels, legends, and gridlines for better readability.\n",
    "\n",
    "Happy coding!\n"
   ]
  },
  {
   "cell_type": "markdown",
   "metadata": {},
   "source": [
    "***The exercise specified fetching 'precipitation' data but I also pulled data on rain, as rain would be a more accurate metric to deliver on the objective.***"
   ]
  },
  {
   "cell_type": "code",
   "execution_count": 3,
   "metadata": {},
   "outputs": [],
   "source": [
    "# Step 1: Set Up Parameters\n",
    "\n",
    "# Location coordinates for London\n",
    "latitude = 51.5074\n",
    "longitude = -0.1278\n",
    "\n",
    "# Date range to 2022\n",
    "start_date = '2022-01-01'\n",
    "end_date = '2022-12-31'  # One week of data\n",
    "\n",
    "# Variables to fetch\n",
    "hourly_variables = ['precipitation', 'rain']"
   ]
  },
  {
   "cell_type": "code",
   "execution_count": 4,
   "metadata": {},
   "outputs": [],
   "source": [
    "# Step 2: Make the API Request\n",
    "\n",
    "base_url = 'https://archive-api.open-meteo.com/v1/archive'\n",
    "\n",
    "params = {\n",
    "    'latitude': latitude,\n",
    "    'longitude': longitude,\n",
    "    'start_date': start_date,\n",
    "    'end_date': end_date,\n",
    "    'hourly': ','.join(hourly_variables),\n",
    "    'timezone': 'Europe/London'\n",
    "}\n",
    "\n",
    "response = requests.get(base_url, params=params)\n"
   ]
  },
  {
   "cell_type": "code",
   "execution_count": 5,
   "metadata": {},
   "outputs": [
    {
     "name": "stdout",
     "output_type": "stream",
     "text": [
      "Data fetched successfully!\n"
     ]
    }
   ],
   "source": [
    "# Check if the request was successful\n",
    "\n",
    "if response.status_code == 200:\n",
    "    print('Data fetched successfully!')\n",
    "else:\n",
    "    print(f'Failed to fetch data. Status code: {response.status_code}')\n"
   ]
  },
  {
   "cell_type": "code",
   "execution_count": 6,
   "metadata": {
    "scrolled": true
   },
   "outputs": [
    {
     "data": {
      "text/html": [
       "<div>\n",
       "<style scoped>\n",
       "    .dataframe tbody tr th:only-of-type {\n",
       "        vertical-align: middle;\n",
       "    }\n",
       "\n",
       "    .dataframe tbody tr th {\n",
       "        vertical-align: top;\n",
       "    }\n",
       "\n",
       "    .dataframe thead th {\n",
       "        text-align: right;\n",
       "    }\n",
       "</style>\n",
       "<table border=\"1\" class=\"dataframe\">\n",
       "  <thead>\n",
       "    <tr style=\"text-align: right;\">\n",
       "      <th></th>\n",
       "      <th>time</th>\n",
       "      <th>precipitation</th>\n",
       "      <th>rain</th>\n",
       "    </tr>\n",
       "  </thead>\n",
       "  <tbody>\n",
       "    <tr>\n",
       "      <th>0</th>\n",
       "      <td>2022-01-01T00:00</td>\n",
       "      <td>0.0</td>\n",
       "      <td>0.0</td>\n",
       "    </tr>\n",
       "    <tr>\n",
       "      <th>1</th>\n",
       "      <td>2022-01-01T01:00</td>\n",
       "      <td>0.0</td>\n",
       "      <td>0.0</td>\n",
       "    </tr>\n",
       "    <tr>\n",
       "      <th>2</th>\n",
       "      <td>2022-01-01T02:00</td>\n",
       "      <td>0.0</td>\n",
       "      <td>0.0</td>\n",
       "    </tr>\n",
       "    <tr>\n",
       "      <th>3</th>\n",
       "      <td>2022-01-01T03:00</td>\n",
       "      <td>0.0</td>\n",
       "      <td>0.0</td>\n",
       "    </tr>\n",
       "    <tr>\n",
       "      <th>4</th>\n",
       "      <td>2022-01-01T04:00</td>\n",
       "      <td>0.0</td>\n",
       "      <td>0.0</td>\n",
       "    </tr>\n",
       "  </tbody>\n",
       "</table>\n",
       "</div>"
      ],
      "text/plain": [
       "               time  precipitation  rain\n",
       "0  2022-01-01T00:00            0.0   0.0\n",
       "1  2022-01-01T01:00            0.0   0.0\n",
       "2  2022-01-01T02:00            0.0   0.0\n",
       "3  2022-01-01T03:00            0.0   0.0\n",
       "4  2022-01-01T04:00            0.0   0.0"
      ]
     },
     "execution_count": 6,
     "metadata": {},
     "output_type": "execute_result"
    }
   ],
   "source": [
    "# Step 3: Load Data into pandas DataFrame\n",
    "\n",
    "data = response.json()\n",
    "hourly_data = data['hourly']\n",
    "\n",
    "df = pd.DataFrame(hourly_data)\n",
    "df.head()\n"
   ]
  },
  {
   "cell_type": "code",
   "execution_count": 7,
   "metadata": {},
   "outputs": [
    {
     "data": {
      "text/plain": [
       "precipitation    0\n",
       "rain             0\n",
       "dtype: int64"
      ]
     },
     "execution_count": 7,
     "metadata": {},
     "output_type": "execute_result"
    }
   ],
   "source": [
    "# Step 4: Data Cleaning\n",
    "\n",
    "# Convert 'time' column to datetime\n",
    "df['time'] = pd.to_datetime(df['time'])\n",
    "\n",
    "# Set 'time' as the index\n",
    "df.set_index('time', inplace=True)\n",
    "\n",
    "# Check for missing values\n",
    "df.isnull().sum()\n"
   ]
  },
  {
   "cell_type": "code",
   "execution_count": 8,
   "metadata": {},
   "outputs": [
    {
     "name": "stderr",
     "output_type": "stream",
     "text": [
      "/var/folders/fs/qg27m43n3sj3bg7816ln66g40000gn/T/ipykernel_833/1928920962.py:2: FutureWarning: DataFrame.fillna with 'method' is deprecated and will raise in a future version. Use obj.ffill() or obj.bfill() instead.\n",
      "  df.fillna(method='ffill', inplace=True)  # Forward fill\n"
     ]
    }
   ],
   "source": [
    "# Handle missing values (if any)\n",
    "df.fillna(method='ffill', inplace=True)  # Forward fill\n"
   ]
  },
  {
   "cell_type": "code",
   "execution_count": 9,
   "metadata": {},
   "outputs": [
    {
     "data": {
      "text/html": [
       "<div>\n",
       "<style scoped>\n",
       "    .dataframe tbody tr th:only-of-type {\n",
       "        vertical-align: middle;\n",
       "    }\n",
       "\n",
       "    .dataframe tbody tr th {\n",
       "        vertical-align: top;\n",
       "    }\n",
       "\n",
       "    .dataframe thead th {\n",
       "        text-align: right;\n",
       "    }\n",
       "</style>\n",
       "<table border=\"1\" class=\"dataframe\">\n",
       "  <thead>\n",
       "    <tr style=\"text-align: right;\">\n",
       "      <th></th>\n",
       "      <th>precipitation</th>\n",
       "      <th>rain</th>\n",
       "    </tr>\n",
       "  </thead>\n",
       "  <tbody>\n",
       "    <tr>\n",
       "      <th>count</th>\n",
       "      <td>8760.000000</td>\n",
       "      <td>8760.000000</td>\n",
       "    </tr>\n",
       "    <tr>\n",
       "      <th>mean</th>\n",
       "      <td>0.075662</td>\n",
       "      <td>0.075491</td>\n",
       "    </tr>\n",
       "    <tr>\n",
       "      <th>std</th>\n",
       "      <td>0.404500</td>\n",
       "      <td>0.404418</td>\n",
       "    </tr>\n",
       "    <tr>\n",
       "      <th>min</th>\n",
       "      <td>0.000000</td>\n",
       "      <td>0.000000</td>\n",
       "    </tr>\n",
       "    <tr>\n",
       "      <th>25%</th>\n",
       "      <td>0.000000</td>\n",
       "      <td>0.000000</td>\n",
       "    </tr>\n",
       "    <tr>\n",
       "      <th>50%</th>\n",
       "      <td>0.000000</td>\n",
       "      <td>0.000000</td>\n",
       "    </tr>\n",
       "    <tr>\n",
       "      <th>75%</th>\n",
       "      <td>0.000000</td>\n",
       "      <td>0.000000</td>\n",
       "    </tr>\n",
       "    <tr>\n",
       "      <th>max</th>\n",
       "      <td>14.700000</td>\n",
       "      <td>14.700000</td>\n",
       "    </tr>\n",
       "  </tbody>\n",
       "</table>\n",
       "</div>"
      ],
      "text/plain": [
       "       precipitation         rain\n",
       "count    8760.000000  8760.000000\n",
       "mean        0.075662     0.075491\n",
       "std         0.404500     0.404418\n",
       "min         0.000000     0.000000\n",
       "25%         0.000000     0.000000\n",
       "50%         0.000000     0.000000\n",
       "75%         0.000000     0.000000\n",
       "max        14.700000    14.700000"
      ]
     },
     "execution_count": 9,
     "metadata": {},
     "output_type": "execute_result"
    }
   ],
   "source": [
    "# Step 5: Exploratory Data Analysis\n",
    "\n",
    "# Summary Statistics\n",
    "df.describe()"
   ]
  },
  {
   "cell_type": "code",
   "execution_count": 10,
   "metadata": {},
   "outputs": [
    {
     "data": {
      "text/html": [
       "<div>\n",
       "<style scoped>\n",
       "    .dataframe tbody tr th:only-of-type {\n",
       "        vertical-align: middle;\n",
       "    }\n",
       "\n",
       "    .dataframe tbody tr th {\n",
       "        vertical-align: top;\n",
       "    }\n",
       "\n",
       "    .dataframe thead th {\n",
       "        text-align: right;\n",
       "    }\n",
       "</style>\n",
       "<table border=\"1\" class=\"dataframe\">\n",
       "  <thead>\n",
       "    <tr style=\"text-align: right;\">\n",
       "      <th></th>\n",
       "      <th>precipitation</th>\n",
       "      <th>rain</th>\n",
       "    </tr>\n",
       "    <tr>\n",
       "      <th>time</th>\n",
       "      <th></th>\n",
       "      <th></th>\n",
       "    </tr>\n",
       "  </thead>\n",
       "  <tbody>\n",
       "    <tr>\n",
       "      <th>2022-01-02</th>\n",
       "      <td>2.2</td>\n",
       "      <td>2.2</td>\n",
       "    </tr>\n",
       "    <tr>\n",
       "      <th>2022-01-09</th>\n",
       "      <td>12.9</td>\n",
       "      <td>12.9</td>\n",
       "    </tr>\n",
       "    <tr>\n",
       "      <th>2022-01-16</th>\n",
       "      <td>3.1</td>\n",
       "      <td>3.1</td>\n",
       "    </tr>\n",
       "    <tr>\n",
       "      <th>2022-01-23</th>\n",
       "      <td>0.0</td>\n",
       "      <td>0.0</td>\n",
       "    </tr>\n",
       "    <tr>\n",
       "      <th>2022-01-30</th>\n",
       "      <td>0.1</td>\n",
       "      <td>0.1</td>\n",
       "    </tr>\n",
       "  </tbody>\n",
       "</table>\n",
       "</div>"
      ],
      "text/plain": [
       "            precipitation  rain\n",
       "time                           \n",
       "2022-01-02            2.2   2.2\n",
       "2022-01-09           12.9  12.9\n",
       "2022-01-16            3.1   3.1\n",
       "2022-01-23            0.0   0.0\n",
       "2022-01-30            0.1   0.1"
      ]
     },
     "execution_count": 10,
     "metadata": {},
     "output_type": "execute_result"
    }
   ],
   "source": [
    "# Step 6: Resample Data to Weekly Totals\n",
    "\n",
    "weekly_totals = df.resample('W').sum()\n",
    "weekly_totals.head()"
   ]
  },
  {
   "cell_type": "code",
   "execution_count": 11,
   "metadata": {},
   "outputs": [
    {
     "data": {
      "image/png": "[encoded data removed]",
      "text/plain": [
       "<Figure size 1400x600 with 1 Axes>"
      ]
     },
     "metadata": {},
     "output_type": "display_data"
    }
   ],
   "source": [
    "# Plot Precipitation Over Time\n",
    "\n",
    "plt.figure(figsize=(14, 6))\n",
    "plt.bar(df.index, df['precipitation'], label='Precipitation (mm)')\n",
    "plt.title('Precipitation Over Time in New York City')\n",
    "plt.xlabel('Date')\n",
    "plt.ylabel('Precipitation (mm)')\n",
    "plt.legend()\n",
    "plt.show()\n"
   ]
  },
  {
   "cell_type": "code",
   "execution_count": 12,
   "metadata": {},
   "outputs": [
    {
     "name": "stdout",
     "output_type": "stream",
     "text": [
      "precipitation    662.8\n",
      "rain             661.3\n",
      "dtype: float64\n"
     ]
    }
   ],
   "source": [
    "# Get sum of precipitation and rain to see difference\n",
    "\n",
    "col_sums = weekly_totals.sum()\n",
    "print (col_sums)"
   ]
  },
  {
   "cell_type": "markdown",
   "metadata": {},
   "source": [
    "***For London, the difference between precipitation and rain is negligible***"
   ]
  },
  {
   "cell_type": "code",
   "execution_count": 13,
   "metadata": {},
   "outputs": [
    {
     "name": "stderr",
     "output_type": "stream",
     "text": [
      "/var/folders/fs/qg27m43n3sj3bg7816ln66g40000gn/T/ipykernel_833/2858686249.py:25: FutureWarning: DataFrame.fillna with 'method' is deprecated and will raise in a future version. Use obj.ffill() or obj.bfill() instead.\n",
      "  df_sea.fillna(method='ffill', inplace=True)\n"
     ]
    }
   ],
   "source": [
    "# Step 8: Compare with Another Location - Seatle\n",
    "\n",
    "# Coordinates for Seatle\n",
    "latitude_sea = 47.6062\n",
    "longitude_sea = -122.3321\n",
    "\n",
    "params_sea = {\n",
    "    'latitude': latitude_sea,\n",
    "    'longitude': longitude_sea,\n",
    "    'start_date': start_date,\n",
    "    'end_date': end_date,\n",
    "    'hourly': ','.join(hourly_variables),\n",
    "    'timezone': 'America/Los_Angeles'\n",
    "}\n",
    "\n",
    "response_sea = requests.get(base_url, params=params_sea)\n",
    "\n",
    "# Load and clean Seatle data\n",
    "data_sea = response_sea.json()\n",
    "hourly_data_sea = data_sea['hourly']\n",
    "df_sea = pd.DataFrame(hourly_data_sea)\n",
    "\n",
    "df_sea['time'] = pd.to_datetime(df_sea['time'])\n",
    "df_sea.set_index('time', inplace=True)\n",
    "df_sea.fillna(method='ffill', inplace=True)\n"
   ]
  },
  {
   "cell_type": "code",
   "execution_count": 14,
   "metadata": {},
   "outputs": [
    {
     "data": {
      "text/html": [
       "<div>\n",
       "<style scoped>\n",
       "    .dataframe tbody tr th:only-of-type {\n",
       "        vertical-align: middle;\n",
       "    }\n",
       "\n",
       "    .dataframe tbody tr th {\n",
       "        vertical-align: top;\n",
       "    }\n",
       "\n",
       "    .dataframe thead th {\n",
       "        text-align: right;\n",
       "    }\n",
       "</style>\n",
       "<table border=\"1\" class=\"dataframe\">\n",
       "  <thead>\n",
       "    <tr style=\"text-align: right;\">\n",
       "      <th></th>\n",
       "      <th>precipitation</th>\n",
       "      <th>rain</th>\n",
       "    </tr>\n",
       "    <tr>\n",
       "      <th>time</th>\n",
       "      <th></th>\n",
       "      <th></th>\n",
       "    </tr>\n",
       "  </thead>\n",
       "  <tbody>\n",
       "    <tr>\n",
       "      <th>2022-01-02</th>\n",
       "      <td>31.3</td>\n",
       "      <td>9.2</td>\n",
       "    </tr>\n",
       "    <tr>\n",
       "      <th>2022-01-09</th>\n",
       "      <td>108.8</td>\n",
       "      <td>90.3</td>\n",
       "    </tr>\n",
       "    <tr>\n",
       "      <th>2022-01-16</th>\n",
       "      <td>45.5</td>\n",
       "      <td>45.5</td>\n",
       "    </tr>\n",
       "    <tr>\n",
       "      <th>2022-01-23</th>\n",
       "      <td>15.7</td>\n",
       "      <td>15.7</td>\n",
       "    </tr>\n",
       "    <tr>\n",
       "      <th>2022-01-30</th>\n",
       "      <td>6.1</td>\n",
       "      <td>6.1</td>\n",
       "    </tr>\n",
       "  </tbody>\n",
       "</table>\n",
       "</div>"
      ],
      "text/plain": [
       "            precipitation  rain\n",
       "time                           \n",
       "2022-01-02           31.3   9.2\n",
       "2022-01-09          108.8  90.3\n",
       "2022-01-16           45.5  45.5\n",
       "2022-01-23           15.7  15.7\n",
       "2022-01-30            6.1   6.1"
      ]
     },
     "execution_count": 14,
     "metadata": {},
     "output_type": "execute_result"
    }
   ],
   "source": [
    "# Resample Data to Weekly Totals\n",
    "\n",
    "weekly_totals_sea = df_sea.resample('W').sum()\n",
    "weekly_totals_sea.head()"
   ]
  },
  {
   "cell_type": "code",
   "execution_count": 15,
   "metadata": {},
   "outputs": [
    {
     "name": "stdout",
     "output_type": "stream",
     "text": [
      "precipitation    1131.2\n",
      "rain             1040.2\n",
      "dtype: float64\n"
     ]
    }
   ],
   "source": [
    "# Get sum of precipitation and rain to see differences for Seatle\n",
    "\n",
    "col_sums_sea = weekly_totals_sea.sum()\n",
    "print (col_sums_sea)"
   ]
  },
  {
   "cell_type": "markdown",
   "metadata": {},
   "source": [
    "***For Seattle, the difference between precipitation and rain is material***"
   ]
  },
  {
   "cell_type": "code",
   "execution_count": 16,
   "metadata": {},
   "outputs": [
    {
     "data": {
      "text/html": [
       "<div>\n",
       "<style scoped>\n",
       "    .dataframe tbody tr th:only-of-type {\n",
       "        vertical-align: middle;\n",
       "    }\n",
       "\n",
       "    .dataframe tbody tr th {\n",
       "        vertical-align: top;\n",
       "    }\n",
       "\n",
       "    .dataframe thead th {\n",
       "        text-align: right;\n",
       "    }\n",
       "</style>\n",
       "<table border=\"1\" class=\"dataframe\">\n",
       "  <thead>\n",
       "    <tr style=\"text-align: right;\">\n",
       "      <th></th>\n",
       "      <th>London</th>\n",
       "      <th>Seattle</th>\n",
       "    </tr>\n",
       "  </thead>\n",
       "  <tbody>\n",
       "    <tr>\n",
       "      <th>precipitation</th>\n",
       "      <td>662.8</td>\n",
       "      <td>1131.2</td>\n",
       "    </tr>\n",
       "    <tr>\n",
       "      <th>rain</th>\n",
       "      <td>661.3</td>\n",
       "      <td>1040.2</td>\n",
       "    </tr>\n",
       "  </tbody>\n",
       "</table>\n",
       "</div>"
      ],
      "text/plain": [
       "               London  Seattle\n",
       "precipitation   662.8   1131.2\n",
       "rain            661.3   1040.2"
      ]
     },
     "execution_count": 16,
     "metadata": {},
     "output_type": "execute_result"
    }
   ],
   "source": [
    "# Combine column_sums and column_sums_sea for Comparison\n",
    "\n",
    "combined_sums = pd.concat([col_sums, col_sums_sea], axis=1, keys = ['London','Seattle'])\n",
    "combined_sums.head()"
   ]
  },
  {
   "cell_type": "code",
   "execution_count": 17,
   "metadata": {},
   "outputs": [
    {
     "data": {
      "image/png": "[encoded data removed]",
      "text/plain": [
       "<Figure size 1000x600 with 1 Axes>"
      ]
     },
     "metadata": {},
     "output_type": "display_data"
    }
   ],
   "source": [
    "# Plot Commbined Sums to visualize difference in precipitation and rain for the two cities\n",
    "\n",
    "combined_sums.plot(kind='bar', figsize=(10, 6))\n",
    "plt.title('2022 Total Precipitationn and Rain: London vs Seatle')\n",
    "plt.xlabel('Metric')\n",
    "plt.ylabel('Total Amount in mm')\n",
    "plt.xticks(rotation=0)\n",
    "plt.grid(True)\n",
    "plt.legend()\n",
    "plt.show()\n"
   ]
  },
  {
   "cell_type": "code",
   "execution_count": 18,
   "metadata": {
    "scrolled": true
   },
   "outputs": [
    {
     "data": {
      "text/html": [
       "<div>\n",
       "<style scoped>\n",
       "    .dataframe tbody tr th:only-of-type {\n",
       "        vertical-align: middle;\n",
       "    }\n",
       "\n",
       "    .dataframe tbody tr th {\n",
       "        vertical-align: top;\n",
       "    }\n",
       "\n",
       "    .dataframe thead th {\n",
       "        text-align: right;\n",
       "    }\n",
       "</style>\n",
       "<table border=\"1\" class=\"dataframe\">\n",
       "  <thead>\n",
       "    <tr style=\"text-align: right;\">\n",
       "      <th></th>\n",
       "      <th>London</th>\n",
       "      <th>Seattle</th>\n",
       "    </tr>\n",
       "    <tr>\n",
       "      <th>time</th>\n",
       "      <th></th>\n",
       "      <th></th>\n",
       "    </tr>\n",
       "  </thead>\n",
       "  <tbody>\n",
       "    <tr>\n",
       "      <th>2022-01-02</th>\n",
       "      <td>2.2</td>\n",
       "      <td>31.3</td>\n",
       "    </tr>\n",
       "    <tr>\n",
       "      <th>2022-01-09</th>\n",
       "      <td>12.9</td>\n",
       "      <td>108.8</td>\n",
       "    </tr>\n",
       "    <tr>\n",
       "      <th>2022-01-16</th>\n",
       "      <td>3.1</td>\n",
       "      <td>45.5</td>\n",
       "    </tr>\n",
       "    <tr>\n",
       "      <th>2022-01-23</th>\n",
       "      <td>0.0</td>\n",
       "      <td>15.7</td>\n",
       "    </tr>\n",
       "    <tr>\n",
       "      <th>2022-01-30</th>\n",
       "      <td>0.1</td>\n",
       "      <td>6.1</td>\n",
       "    </tr>\n",
       "  </tbody>\n",
       "</table>\n",
       "</div>"
      ],
      "text/plain": [
       "            London  Seattle\n",
       "time                       \n",
       "2022-01-02     2.2     31.3\n",
       "2022-01-09    12.9    108.8\n",
       "2022-01-16     3.1     45.5\n",
       "2022-01-23     0.0     15.7\n",
       "2022-01-30     0.1      6.1"
      ]
     },
     "execution_count": 18,
     "metadata": {},
     "output_type": "execute_result"
    }
   ],
   "source": [
    "# Combine precipitation weekly totals for Comparison\n",
    "combined_precipitation = pd.DataFrame({\n",
    "    'London': weekly_totals['precipitation'],\n",
    "    'Seattle': weekly_totals_sea['precipitation']  \n",
    "})\n",
    "\n",
    "combined_precipitation.head()"
   ]
  },
  {
   "cell_type": "code",
   "execution_count": 19,
   "metadata": {},
   "outputs": [
    {
     "data": {
      "image/png": "[encoded data removed]",
      "text/plain": [
       "<Figure size 1000x600 with 1 Axes>"
      ]
     },
     "metadata": {},
     "output_type": "display_data"
    }
   ],
   "source": [
    "# Plot Comparison of Weekly Precipitation\n",
    "\n",
    "combined_precipitation.plot(kind='bar', figsize=(10, 6))\n",
    "plt.title('2022 Weekly Precipitation: London vs. Seattle')\n",
    "plt.xlabel('Date')\n",
    "plt.ylabel('Precipitation in mm')\n",
    "plt.xticks(rotation=90)\n",
    "plt.grid(False)\n",
    "plt.show()\n"
   ]
  },
  {
   "cell_type": "code",
   "execution_count": 20,
   "metadata": {},
   "outputs": [
    {
     "name": "stdout",
     "output_type": "stream",
     "text": [
      "0.3010458544223738\n"
     ]
    }
   ],
   "source": [
    "# Calculate correlation of London and Seatle precipitation\n",
    "corr_precipitation = combined_precipitation['London'].corr(combined_precipitation['Seattle'])\n",
    "print(corr_precipitation)"
   ]
  },
  {
   "cell_type": "code",
   "execution_count": 21,
   "metadata": {
    "scrolled": true
   },
   "outputs": [
    {
     "data": {
      "text/html": [
       "<div>\n",
       "<style scoped>\n",
       "    .dataframe tbody tr th:only-of-type {\n",
       "        vertical-align: middle;\n",
       "    }\n",
       "\n",
       "    .dataframe tbody tr th {\n",
       "        vertical-align: top;\n",
       "    }\n",
       "\n",
       "    .dataframe thead th {\n",
       "        text-align: right;\n",
       "    }\n",
       "</style>\n",
       "<table border=\"1\" class=\"dataframe\">\n",
       "  <thead>\n",
       "    <tr style=\"text-align: right;\">\n",
       "      <th></th>\n",
       "      <th>London</th>\n",
       "      <th>Seattle</th>\n",
       "    </tr>\n",
       "    <tr>\n",
       "      <th>time</th>\n",
       "      <th></th>\n",
       "      <th></th>\n",
       "    </tr>\n",
       "  </thead>\n",
       "  <tbody>\n",
       "    <tr>\n",
       "      <th>2022-01-02</th>\n",
       "      <td>2.2</td>\n",
       "      <td>9.2</td>\n",
       "    </tr>\n",
       "    <tr>\n",
       "      <th>2022-01-09</th>\n",
       "      <td>12.9</td>\n",
       "      <td>90.3</td>\n",
       "    </tr>\n",
       "    <tr>\n",
       "      <th>2022-01-16</th>\n",
       "      <td>3.1</td>\n",
       "      <td>45.5</td>\n",
       "    </tr>\n",
       "    <tr>\n",
       "      <th>2022-01-23</th>\n",
       "      <td>0.0</td>\n",
       "      <td>15.7</td>\n",
       "    </tr>\n",
       "    <tr>\n",
       "      <th>2022-01-30</th>\n",
       "      <td>0.1</td>\n",
       "      <td>6.1</td>\n",
       "    </tr>\n",
       "  </tbody>\n",
       "</table>\n",
       "</div>"
      ],
      "text/plain": [
       "            London  Seattle\n",
       "time                       \n",
       "2022-01-02     2.2      9.2\n",
       "2022-01-09    12.9     90.3\n",
       "2022-01-16     3.1     45.5\n",
       "2022-01-23     0.0     15.7\n",
       "2022-01-30     0.1      6.1"
      ]
     },
     "execution_count": 21,
     "metadata": {},
     "output_type": "execute_result"
    }
   ],
   "source": [
    "# Combine rainfall weekly totals for Comparison\n",
    "combined_rain = pd.DataFrame({\n",
    "    'London': weekly_totals['rain'],\n",
    "    'Seattle': weekly_totals_sea['rain']  \n",
    "})\n",
    "\n",
    "combined_rain.head()\n"
   ]
  },
  {
   "cell_type": "code",
   "execution_count": 22,
   "metadata": {},
   "outputs": [
    {
     "data": {
      "image/png": "[encoded data removed]",
      "text/plain": [
       "<Figure size 1000x600 with 1 Axes>"
      ]
     },
     "metadata": {},
     "output_type": "display_data"
    }
   ],
   "source": [
    "# Plot Comparison of Weekly Rainfall\n",
    "\n",
    "combined_rain.plot(kind='bar', figsize=(10, 6))\n",
    "plt.title('2022 Weekly Rainfall: London vs. Seattle')\n",
    "plt.xlabel('Date')\n",
    "plt.ylabel('Rain in mm')\n",
    "plt.xticks(rotation=90)\n",
    "plt.grid(False)\n",
    "plt.show()\n"
   ]
  },
  {
   "cell_type": "code",
   "execution_count": 23,
   "metadata": {},
   "outputs": [
    {
     "name": "stdout",
     "output_type": "stream",
     "text": [
      "0.3551503546933778\n"
     ]
    }
   ],
   "source": [
    "# Calculate correlation of London and Seatle rain\n",
    "corr_rain = combined_rain['London'].corr(combined_rain['Seattle'])\n",
    "print(corr_rain)"
   ]
  },
  {
   "cell_type": "code",
   "execution_count": 24,
   "metadata": {},
   "outputs": [],
   "source": [
    "# Step 10: Save Data to CSV (Optional)\n",
    "\n",
    "# Save London Data\n",
    "df.to_csv('London_Precipitation_Data.csv')\n",
    "\n",
    "# Save Seattle Data\n",
    "df_sea.to_csv('Seattle_Precipitation_Data.csv')\n"
   ]
  },
  {
   "cell_type": "markdown",
   "metadata": {},
   "source": [
    "# Conclusion\n",
    "## Seattle had a lot more precipitation and rainfall than London in 2022\n",
    "Seattle had 1.7X more precipitation than London\n",
    "Seatle had ~1.6X more rainfall.\n",
    "\n",
    "## Both cities had a wet spring (mid-May to mid-June 2022)\n",
    "\n",
    "## During the summer months (July-September 2022), Seattle was relatively dry and had less rainfall/precipitation than London. "
   ]
  },
  {
   "cell_type": "code",
   "execution_count": null,
   "metadata": {},
   "outputs": [],
   "source": []
  }
 ],
 "metadata": {
  "kernelspec": {
   "display_name": "Python [conda env:base] *",
   "language": "python",
   "name": "conda-base-py"
  },
  "language_info": {
   "codemirror_mode": {
    "name": "ipython",
    "version": 3
   },
   "file_extension": ".py",
   "mimetype": "text/x-python",
   "name": "python",
   "nbconvert_exporter": "python",
   "pygments_lexer": "ipython3",
   "version": "3.12.7"
  }
 },
 "nbformat": 4,
 "nbformat_minor": 4
}
